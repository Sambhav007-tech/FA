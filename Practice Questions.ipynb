{
 "cells": [
  {
   "cell_type": "markdown",
   "id": "0970edad",
   "metadata": {},
   "source": [
    "Q1 WAP to print all the integers that aren't divisible by either 2 or 3 and lie between 1 and 50\n"
   ]
  },
  {
   "cell_type": "code",
   "execution_count": 1,
   "id": "08fb6df7",
   "metadata": {
    "scrolled": true
   },
   "outputs": [
    {
     "name": "stdout",
     "output_type": "stream",
     "text": [
      "1\n",
      "5\n",
      "7\n",
      "11\n",
      "13\n",
      "17\n",
      "19\n",
      "23\n",
      "25\n",
      "29\n",
      "31\n",
      "35\n",
      "37\n",
      "41\n",
      "43\n",
      "47\n",
      "49\n"
     ]
    }
   ],
   "source": [
    "for i in range (0,51):\n",
    "    if i % 2 != 0 and i % 3 !=0:\n",
    "        print(i)"
   ]
  },
  {
   "cell_type": "markdown",
   "id": "ef70dfa2",
   "metadata": {},
   "source": [
    "Q2 Write a Python program to check the validity of a password given by the user. The password should satisfy the following criteria: 1. Contains at least one letter between a and z. 2. Contains at least one number between 1 and 9 3. Contains at least one letter between A and Z 4. Contains at least one special character from @, $, *      "
   ]
  },
  {
   "cell_type": "code",
   "execution_count": 10,
   "id": "98f3ba28",
   "metadata": {},
   "outputs": [
    {
     "name": "stdout",
     "output_type": "stream",
     "text": [
      "Enter password: Sambhav\n",
      "INVALID PASSWORD\n"
     ]
    }
   ],
   "source": [
    "import re\n",
    "\n",
    "password= input(\"Enter password: \")\n",
    "\n",
    "if re.search(\"[a-z]\", password) and re.search(\"[A-Z]\", password) and re.search(\"[1-9]\", password) and re.search(\"[@$*]\", password):\n",
    "    print(\"VALID PASSWORD\")\n",
    "else:\n",
    "    print(\"INVALID PASSWORD\")\n",
    "    "
   ]
  },
  {
   "cell_type": "markdown",
   "id": "32b190a6",
   "metadata": {},
   "source": [
    "Q3 Write a python program to print factorial of a number. Take input from the user. "
   ]
  },
  {
   "cell_type": "code",
   "execution_count": 18,
   "id": "b798ca67",
   "metadata": {},
   "outputs": [
    {
     "name": "stdout",
     "output_type": "stream",
     "text": [
      "Enter a number:0\n",
      "Factorial=1\n"
     ]
    }
   ],
   "source": [
    "import numpy as np\n",
    "import math\n",
    "num = int(input(\"Enter a number:\"))\n",
    "if num<0:\n",
    "    print(\"Cannot find a factorial\")\n",
    "elif num == 0:\n",
    "    print(\"Factorial=1\")\n",
    "else:\n",
    "    print(\"Factorial=\",math.factorial(num))"
   ]
  },
  {
   "cell_type": "markdown",
   "id": "595fa384",
   "metadata": {},
   "source": [
    "Q4 Write a Python program that accepts a list of numbers. Count the negative numbers and compute the sum of the positive numbers of the said list. Return these values through a list. (For example:  if input is [1, 2, 3, -4, -5] then output should be: Number of negative of numbers and sum of the positive numbers of the said list: [2, 6])"
   ]
  },
  {
   "cell_type": "code",
   "execution_count": 24,
   "id": "a4f874e5",
   "metadata": {},
   "outputs": [
    {
     "name": "stdout",
     "output_type": "stream",
     "text": [
      "Enter list of number, separated by space: 54 -5 57 -56 85\n",
      "Number of negative numbers and sum of positive numbers: [2, 196]\n"
     ]
    }
   ],
   "source": [
    "numbers=input(\"Enter list of number, separated by space: \").split()\n",
    "numbers=[int(num) for num in numbers]\n",
    "\n",
    "neg_count=0\n",
    "pos_sum=0\n",
    "\n",
    "for num in numbers:\n",
    "    if num < 0:\n",
    "        neg_count =neg_count+1\n",
    "    else:\n",
    "        pos_sum = pos_sum+num\n",
    "    \n",
    "result = [neg_count, pos_sum]\n",
    "\n",
    "print(\"Number of negative numbers and sum of positive numbers:\", result)"
   ]
  },
  {
   "cell_type": "markdown",
   "id": "1534cf6c",
   "metadata": {},
   "source": [
    "Q5 Write the python statement for the following question on the basis of given dataset: \n",
    "    \n",
    "Name-RAM,EKLAVAY,HERRY,MARIYAM,LINDA,BILL\n",
    "Degree-BCA,MCA,BCA,BTECH,MCA,BCA\n",
    "Score-90,60,NaN,70,80,75\n",
    "\n",
    "a) To create the above DataFrame. \n",
    "b) To print the Degree and maximum marks in each stream. \n",
    "c) To fill the NaN with 76. \n",
    "d) To count the number of students in MCA. \n",
    "e) To print the MEAN marks  for BCA"
   ]
  },
  {
   "cell_type": "code",
   "execution_count": 29,
   "id": "18e19f7a",
   "metadata": {},
   "outputs": [
    {
     "name": "stdout",
     "output_type": "stream",
     "text": [
      "      Name Degree  Score\n",
      "0      RAM    BCA   90.0\n",
      "1  EKLAVAY    MCA   60.0\n",
      "2    HERRY    BCA    NaN\n",
      "3  MARIYAM  BTECH   70.0\n",
      "4    LINDA    MCA   80.0\n",
      "5     BILL    BCA   75.0\n"
     ]
    }
   ],
   "source": [
    "import numpy as np\n",
    "import pandas as pd\n",
    "\n",
    "#a\n",
    "\n",
    "data = {'Name': ['RAM', 'EKLAVAY', 'HERRY', 'MARIYAM', 'LINDA', 'BILL'],\n",
    "        'Degree': ['BCA', 'MCA', 'BCA', 'BTECH', 'MCA', 'BCA'],\n",
    "        'Score': [90, 60, np.nan, 70, 80, 75]}\n",
    "\n",
    "df = pd.DataFrame(data)\n",
    "print(df)"
   ]
  },
  {
   "cell_type": "code",
   "execution_count": 31,
   "id": "942b440c",
   "metadata": {},
   "outputs": [
    {
     "name": "stdout",
     "output_type": "stream",
     "text": [
      "Degree\n",
      "BCA      90.0\n",
      "BTECH    70.0\n",
      "MCA      80.0\n",
      "Name: Score, dtype: float64\n"
     ]
    }
   ],
   "source": [
    "#b\n",
    "max_scores = df.groupby('Degree')['Score'].max()\n",
    "print(max_scores)"
   ]
  },
  {
   "cell_type": "code",
   "execution_count": 32,
   "id": "566f1e51",
   "metadata": {},
   "outputs": [
    {
     "name": "stdout",
     "output_type": "stream",
     "text": [
      "      Name Degree  Score\n",
      "0      RAM    BCA   90.0\n",
      "1  EKLAVAY    MCA   60.0\n",
      "2    HERRY    BCA   76.0\n",
      "3  MARIYAM  BTECH   70.0\n",
      "4    LINDA    MCA   80.0\n",
      "5     BILL    BCA   75.0\n"
     ]
    }
   ],
   "source": [
    "#c\n",
    "df['Score'] = df['Score'].fillna(76)\n",
    "print(df)"
   ]
  },
  {
   "cell_type": "code",
   "execution_count": 33,
   "id": "208b7909",
   "metadata": {},
   "outputs": [
    {
     "name": "stdout",
     "output_type": "stream",
     "text": [
      "2\n"
     ]
    }
   ],
   "source": [
    "#d\n",
    "num_students_mca = df[df['Degree'] == 'MCA'].shape[0]\n",
    "print(num_students_mca)"
   ]
  },
  {
   "cell_type": "code",
   "execution_count": 34,
   "id": "775ba0a2",
   "metadata": {},
   "outputs": [
    {
     "name": "stdout",
     "output_type": "stream",
     "text": [
      "80.33333333333333\n"
     ]
    }
   ],
   "source": [
    " #e\n",
    "mean_marks_bca = df[df['Degree'] == 'BCA']['Score'].mean()\n",
    "print(mean_marks_bca)"
   ]
  },
  {
   "cell_type": "markdown",
   "id": "0302424b",
   "metadata": {},
   "source": [
    "Q6 Following is a dataset provided by a car manufacturing company\n",
    "\n",
    "Sales- Yes,No,No,Yes,No,Yes,No,Yes,Yes\n",
    "Price- Expensive,Affordable,Expensive,Affordable,Affordable,Inexpensive,Expensive,Inexpensive,Inexpensive\n",
    "Advertising- High,Low,High,High,Low,High,High,High,Low\n",
    "Model- Sedan,Sedan,SUV,Hatchback,SUV,Hatchback,SUV,Hatchback,Hatchback\n",
    "Fuel- Electric,CNG,Petrol,CNG,Petrol,Petrol,Electric,Petrol,Electric\n",
    "\n",
    "Fit an appropriate model on the given data to predict whether the sales would be or not. \n",
    "Also, check the accuracy score of the model. \n",
    "Additionally, the company is planning to launch a new electric SUV car, which will be expensive and hence company is \n",
    "planning to do high advertising for the same.  Predict what will be the situation of sales for the same."
   ]
  },
  {
   "cell_type": "code",
   "execution_count": 35,
   "id": "69d06d63",
   "metadata": {},
   "outputs": [],
   "source": [
    "import pandas as pd\n",
    "from sklearn.model_selection import train_test_split\n",
    "from sklearn.linear_model import LogisticRegression\n",
    "from sklearn.metrics import accuracy_score"
   ]
  },
  {
   "cell_type": "code",
   "execution_count": 36,
   "id": "7ae479b8",
   "metadata": {},
   "outputs": [],
   "source": [
    "data = {'Sales': ['Yes', 'No', 'No', 'Yes', 'No', 'Yes', 'No', 'Yes', 'Yes'],'Price': ['Expensive', 'Affordable', 'Expensive', 'Affordable', 'Affordable', 'Inexpensive', 'Expensive', 'Inexpensive', 'Inexpensive'],\n",
    "    'Advertising': ['High', 'Low', 'High', 'High', 'Low', 'High', 'High', 'High', 'Low'],\n",
    "    'Model': ['Sedan', 'Sedan', 'SUV', 'Hatchback', 'SUV', 'Hatchback', 'SUV', 'Hatchback', 'Hatchback'],\n",
    "    'Fuel': ['Electric', 'CNG', 'Petrol', 'CNG', 'Petrol', 'Petrol', 'Electric', 'Petrol', 'Electric']}\n",
    "df = pd.DataFrame(data)"
   ]
  },
  {
   "cell_type": "code",
   "execution_count": 37,
   "id": "39241edf",
   "metadata": {},
   "outputs": [],
   "source": [
    "df = pd.get_dummies(df, columns=['Sales','Price', 'Advertising', 'Model', 'Fuel'])"
   ]
  },
  {
   "cell_type": "code",
   "execution_count": 51,
   "id": "39cfed2e",
   "metadata": {},
   "outputs": [],
   "source": [
    "X = df.drop('Sales_Yes', axis=1)\n",
    "y = df['Sales_Yes']\n",
    "X_train, X_test, y_train, y_test = train_test_split(X, y, test_size=0.2, random_state=42)"
   ]
  },
  {
   "cell_type": "code",
   "execution_count": 52,
   "id": "9f3f22b6",
   "metadata": {
    "scrolled": true
   },
   "outputs": [
    {
     "data": {
      "text/plain": [
       "LogisticRegression()"
      ]
     },
     "execution_count": 52,
     "metadata": {},
     "output_type": "execute_result"
    }
   ],
   "source": [
    "lr = LogisticRegression()\n",
    "lr.fit(X_train, y_train)"
   ]
  },
  {
   "cell_type": "code",
   "execution_count": 53,
   "id": "becc268d",
   "metadata": {},
   "outputs": [],
   "source": [
    "y_pred = lr.predict(X_test)\n",
    "accuracy = accuracy_score(y_test, y_pred)"
   ]
  },
  {
   "cell_type": "code",
   "execution_count": 54,
   "id": "0abc19fd",
   "metadata": {},
   "outputs": [
    {
     "name": "stdout",
     "output_type": "stream",
     "text": [
      "Accuracy score: 0.5\n"
     ]
    }
   ],
   "source": [
    "print('Accuracy score:' ,accuracy)"
   ]
  },
  {
   "cell_type": "code",
   "execution_count": null,
   "id": "ece18cce",
   "metadata": {},
   "outputs": [],
   "source": [
    "Missing part"
   ]
  },
  {
   "cell_type": "markdown",
   "id": "da1f6636",
   "metadata": {},
   "source": [
    "Q7 The following data set is for 10 random songs. Divide the data into 3 clusters and find the accuracy of the model. (Tempo: Beats per minute of a song)\n",
    "Tempo- 101,111,67,120,107,140,156,163,103,128\n",
    "Duration- 210,285,217,152,200,123,283,206,195,208\n"
   ]
  },
  {
   "cell_type": "code",
   "execution_count": 66,
   "id": "995ec412",
   "metadata": {},
   "outputs": [],
   "source": [
    "import pandas as pd\n",
    "from sklearn.cluster import KMeans\n",
    "from sklearn.metrics import accuracy_score\n",
    "\n",
    "data={\"Tempo\": [101,111,67,120,107,140,156,163,103,128], \"Duration\": [210,285,217,152,200,123,283,206,195,208]}\n",
    "df=pd.DataFrame(data)"
   ]
  },
  {
   "cell_type": "code",
   "execution_count": 74,
   "id": "077f9a2f",
   "metadata": {},
   "outputs": [],
   "source": [
    "model = KMeans(n_clusters=3, random_state=42)\n",
    "model.fit(df)\n",
    "\n",
    "xyz = model.predict(df)"
   ]
  },
  {
   "cell_type": "code",
   "execution_count": 75,
   "id": "b06410dc",
   "metadata": {},
   "outputs": [
    {
     "name": "stdout",
     "output_type": "stream",
     "text": [
      "Accuracy score: 0.1\n"
     ]
    }
   ],
   "source": [
    "accuracy= accuracy_score([0,1,2,0,0,2,1,0,0,0], xyz)\n",
    "print(\"Accuracy score:\", accuracy)"
   ]
  },
  {
   "cell_type": "markdown",
   "id": "57891c78",
   "metadata": {},
   "source": [
    "Q8 Following is the data set of a company that produces automobile.\n",
    "Year':2011, 2012, 2013, 2014, 2015, 2016, 2017, 2018, 2019, 2020,\n",
    "        'Marketing_Expense': 5, 6, 4, 8, 13, 7, 9, 10, 9.5, 11,\n",
    "        'Sales': 3.5, 4, 3, 5, 9.2, 5, 6, 7.2, 6.9, 8.5\n",
    "\n",
    "As a marketing head of this company build a suitable regression model using the python libraries to predict the sales of company in future years. Also, check the accuracy score of the model.                               "
   ]
  },
  {
   "cell_type": "code",
   "execution_count": 84,
   "id": "339f98eb",
   "metadata": {},
   "outputs": [],
   "source": [
    "import pandas as pd\n",
    "import numpy as np\n",
    "from sklearn.linear_model import LinearRegression\n",
    "from sklearn.metrics import r2_score\n",
    "from sklearn.model_selection import train_test_split\n",
    "\n",
    "data = {'Year': [2011, 2012, 2013, 2014, 2015, 2016, 2017, 2018, 2019, 2020],\n",
    "        'Marketing_Expense': [5, 6, 4, 8, 13, 7, 9, 10, 9.5, 11],\n",
    "        'Sales': [3.5, 4, 3, 5, 9.2, 5, 6, 7.2, 6.9, 8.5]}\n",
    "df = pd.DataFrame(data)"
   ]
  },
  {
   "cell_type": "code",
   "execution_count": 90,
   "id": "b456e712",
   "metadata": {},
   "outputs": [],
   "source": [
    "X= df[[\"Year\",\"Marketing_Expense\"]]\n",
    "Y= df[[\"Sales\"]]\n",
    "X_train, X_test, Y_train ,Y_test= train_test_split(X,Y,test_size=0.2,random_state=42)"
   ]
  },
  {
   "cell_type": "code",
   "execution_count": 91,
   "id": "7d285b15",
   "metadata": {},
   "outputs": [
    {
     "data": {
      "text/plain": [
       "LinearRegression()"
      ]
     },
     "execution_count": 91,
     "metadata": {},
     "output_type": "execute_result"
    }
   ],
   "source": [
    "model=LinearRegression()\n",
    "model.fit(X_train,Y_train)"
   ]
  },
  {
   "cell_type": "code",
   "execution_count": 92,
   "id": "30983196",
   "metadata": {},
   "outputs": [],
   "source": [
    "y_pred= model.predict(X_test)"
   ]
  },
  {
   "cell_type": "code",
   "execution_count": 93,
   "id": "bad6c269",
   "metadata": {},
   "outputs": [
    {
     "name": "stdout",
     "output_type": "stream",
     "text": [
      "0.9979750024908802\n"
     ]
    }
   ],
   "source": [
    "accuracy= r2_score(Y_test,y_pred)\n",
    "print(accuracy)"
   ]
  },
  {
   "cell_type": "markdown",
   "id": "78d38916",
   "metadata": {},
   "source": [
    "Q9 Following is the dataset given by a school of a random sample of 10 students.\n",
    "Fit logistic regression model on the above data set to predict whether a student will take PCM or not. Also, Harsh, a male student has scored 90% on aggregate with 95% in maths and 80% in science. Find whether he would take PCM or not using the fitted regression model. (Is_PCM: Whether the student took PCM in 11th. 1 means yes. Gender: 1 is male)"
   ]
  },
  {
   "cell_type": "code",
   "execution_count": 103,
   "id": "1e3f0939",
   "metadata": {},
   "outputs": [],
   "source": [
    "import pandas as pd\n",
    "from sklearn.linear_model import LogisticRegression"
   ]
  },
  {
   "cell_type": "code",
   "execution_count": 105,
   "id": "bc8dfba5",
   "metadata": {},
   "outputs": [],
   "source": [
    "data = pd.DataFrame({\n",
    "    'IS_PCM': [1, 1, 1, 0, 0, 0, 0, 1, 0, 1],\n",
    "    'Aggregate Marks': [98, 97.8, 95.6, 89, 85, 98.9, 99, 95, 87.8, 94],\n",
    "    'Science Marks': [97, 99, 94, 87, 86, 97, 99, 90, 94, 90],\n",
    "    'Maths Marks': [98, 95, 98, 94, 84, 99, 100, 95, 80, 98],\n",
    "    'Gender': [1, 1, 0, 1, 1, 0, 0, 1, 1, 1]})\n",
    "df = pd.DataFrame(data)"
   ]
  },
  {
   "cell_type": "code",
   "execution_count": 106,
   "id": "ff120070",
   "metadata": {},
   "outputs": [],
   "source": [
    "x=df[[\"Aggregate Marks\",\"Science Marks\",\"Maths Marks\",\"Gender\"]]\n",
    "x.columns = [\"Aggregate Marks\",\"Science Marks\",\"Maths Marks\",\"Gender\"]\n",
    "y=df[\"IS_PCM\"]"
   ]
  },
  {
   "cell_type": "code",
   "execution_count": 107,
   "id": "47323a16",
   "metadata": {},
   "outputs": [],
   "source": [
    "clf = LogisticRegression().fit(x,y)"
   ]
  },
  {
   "cell_type": "code",
   "execution_count": 108,
   "id": "d34e19c0",
   "metadata": {},
   "outputs": [],
   "source": [
    "harsh=[[90,80,95,1]]\n",
    "harsh_df = pd.DataFrame(harsh, columns=x.columns)\n",
    "pcm_prediction = clf.predict(harsh_df)"
   ]
  },
  {
   "cell_type": "code",
   "execution_count": 109,
   "id": "1d559a84",
   "metadata": {},
   "outputs": [
    {
     "name": "stdout",
     "output_type": "stream",
     "text": [
      "Harsh is predicted to take PCM\n"
     ]
    }
   ],
   "source": [
    "if pcm_prediction ==1:\n",
    "    print(\"Harsh is predicted to take PCM\")\n",
    "else:\n",
    "    print(\"Harsh is predicted to not take PCM\")"
   ]
  },
  {
   "cell_type": "markdown",
   "id": "a7a7d915",
   "metadata": {},
   "source": [
    "Q10 Following is the dataset regarding the survival of passengers in a train accident\n",
    "'Class': ['1st', '1st', '1st', '2nd', '2nd', '2nd', '2nd', '3rd', '3rd', '3rd'],\n",
    "'Age': [29, 30, 47, 32, 57, 18, 36, 25, 18, 38],\n",
    "'Gender': ['female', 'male', 'male', 'female', 'male', 'male', 'female', 'male', 'female', 'female'],\n",
    "'Survived': [1, 0, 1, 1, 0, 0, 1, 0, 0, 1]\n",
    "    \n",
    "Fit an appropriate Machine learning model to predict whether the person has survived or not. \n",
    "Also check the accuracy of the model by using the following dataset\n",
    "\n",
    "Class\tAge \t Gender\tSurvived\n",
    "1st \t13  \t   male  \t 0\n",
    "2nd \t33  \t  female\t 1\n",
    "3rd \t26  \t   male \t 0\n"
   ]
  },
  {
   "cell_type": "code",
   "execution_count": 96,
   "id": "26b8f674",
   "metadata": {},
   "outputs": [],
   "source": [
    "import pandas as pd\n",
    "from sklearn.linear_model import LogisticRegression\n",
    "from sklearn.metrics import accuracy_score\n",
    "from sklearn.preprocessing import OneHotEncoder"
   ]
  },
  {
   "cell_type": "code",
   "execution_count": 97,
   "id": "590ead2e",
   "metadata": {},
   "outputs": [],
   "source": [
    "train = pd.DataFrame({\n",
    "    'Class': ['1st', '1st', '1st', '2nd', '2nd', '2nd', '2nd', '3rd', '3rd', '3rd'],\n",
    "    'Age': [29, 30, 47, 32, 57, 18, 36, 25, 18, 38],\n",
    "    'Gender': ['female', 'male', 'male', 'female', 'male', 'male', 'female', 'male', 'female', 'female'],\n",
    "    'Survived': [1, 0, 1, 1, 0, 0, 1, 0, 0, 1]})"
   ]
  },
  {
   "cell_type": "code",
   "execution_count": 98,
   "id": "4345ab9f",
   "metadata": {},
   "outputs": [],
   "source": [
    "test = pd.DataFrame({\n",
    "    'Class': ['1st', '2nd', '3rd'],\n",
    "    'Age': [13, 33, 26],\n",
    "    'Gender': ['male', 'female', 'male'],\n",
    "    'Survived': [0, 1, 0]})"
   ]
  },
  {
   "cell_type": "code",
   "execution_count": 99,
   "id": "bdfa4574",
   "metadata": {},
   "outputs": [],
   "source": [
    "train_encoded = pd.get_dummies(train, columns=['Class', 'Gender'])\n",
    "test_encoded = pd.get_dummies(test, columns=['Class', 'Gender'])"
   ]
  },
  {
   "cell_type": "code",
   "execution_count": 100,
   "id": "d947b094",
   "metadata": {
    "scrolled": true
   },
   "outputs": [
    {
     "data": {
      "text/plain": [
       "LogisticRegression()"
      ]
     },
     "execution_count": 100,
     "metadata": {},
     "output_type": "execute_result"
    }
   ],
   "source": [
    "X_train = train_encoded.drop(['Survived'], axis=1)\n",
    "y_train = train_encoded['Survived']\n",
    "model = LogisticRegression()\n",
    "model.fit(X_train, y_train)"
   ]
  },
  {
   "cell_type": "code",
   "execution_count": 101,
   "id": "f6e10a60",
   "metadata": {},
   "outputs": [],
   "source": [
    "X_test = test_encoded.drop(['Survived'], axis=1)\n",
    "y_test = test_encoded['Survived']\n",
    "y_pred = model.predict(X_test)"
   ]
  },
  {
   "cell_type": "code",
   "execution_count": 102,
   "id": "18cb829f",
   "metadata": {},
   "outputs": [
    {
     "name": "stdout",
     "output_type": "stream",
     "text": [
      "Accuracy: 1.0\n"
     ]
    }
   ],
   "source": [
    "accuracy = accuracy_score(y_test, y_pred)\n",
    "print(\"Accuracy:\", accuracy)"
   ]
  }
 ],
 "metadata": {
  "kernelspec": {
   "display_name": "Python 3 (ipykernel)",
   "language": "python",
   "name": "python3"
  },
  "language_info": {
   "codemirror_mode": {
    "name": "ipython",
    "version": 3
   },
   "file_extension": ".py",
   "mimetype": "text/x-python",
   "name": "python",
   "nbconvert_exporter": "python",
   "pygments_lexer": "ipython3",
   "version": "3.9.13"
  }
 },
 "nbformat": 4,
 "nbformat_minor": 5
}
